{
 "cells": [
  {
   "cell_type": "code",
   "execution_count": 1,
   "metadata": {
    "pycharm": {
     "name": "#%%\n"
    }
   },
   "outputs": [],
   "source": [
    "%matplotlib inline"
   ]
  },
  {
   "cell_type": "markdown",
   "source": [
    "### Tutorial overview\n",
    "This tutorial provides a demo of how to use Cue to discover variants given a small BAM file provided here: ```data/demo/inputs/chr21.small.bam```.\n",
    "This file contains alignments to a region of ```GRCh38``` ```chr21``` of short reads from a synthetic genome.\n",
    "\n",
    "The ground-truth variants simulated in this region of the genome are provided here:\n",
    "```data/demo/ground_truth/svs.chr21.small.vcf.gz```.\n",
    "\n",
    "The associated YAML config files needed to execute this workflow are provided in the ```data/demo/config``` directory."
   ],
   "metadata": {
    "collapsed": false,
    "pycharm": {
     "name": "#%% md\n"
    }
   }
  },
  {
   "cell_type": "markdown",
   "source": [
    "### Initial setup\n",
    "\n",
    "Copy the demo configuration files into the desired results folder. Cue generally writes the results of each command into the parent folder of the provided config file(s).\n"
   ],
   "metadata": {
    "collapsed": false,
    "pycharm": {
     "name": "#%% md\n"
    }
   }
  },
  {
   "cell_type": "code",
   "execution_count": 8,
   "outputs": [
    {
     "name": "stderr",
     "output_type": "stream",
     "text": [
      "mkdir: ../data/demo/results: File exists\n"
     ]
    }
   ],
   "source": [
    "%%sh\n",
    "mkdir ../data/demo/results\n",
    "cp ../data/demo/config/data.yaml ../data/demo/results/.\n",
    "cp ../data/demo/config/model.yaml ../data/demo/results/."
   ],
   "metadata": {
    "collapsed": false,
    "pycharm": {
     "name": "#%%\n"
    }
   }
  },
  {
   "cell_type": "markdown",
   "source": [
    "The YAML configuration files contain input parameter settings needed to execute Cue. To perform variant calling, Cue takes a data-specific config file (```data.yaml```) and a model-specific config file (```model.yaml```), which specify parameters used to process the input BAM file and execute the pretrained deep learning model, respectively.\n",
    "\n",
    "Two parameters are required in the data YAML file: (1) the path to the input BAM file and (2) the reference file index; for example:\n",
    "```\n",
    "bam: \"data/demo/inputs/chr21.small.bam\"\n",
    "fai: \"data/demo/inputs/GRCh38.fa.fai\"\n",
    "```\n",
    "\n",
    "One parameter is required in the model YAML file -- the path to the pretrained model:\n",
    "\n",
    "```\n",
    "model_path: \"data/models/cue.pt\"\n",
    "```\n",
    "Several additional parameters can be optionally controlled by the user (as described in the documentation), while the remaining parameters should be left untouched."
   ],
   "metadata": {
    "collapsed": false,
    "pycharm": {
     "name": "#%% md\n"
    }
   }
  },
  {
   "cell_type": "markdown",
   "source": [
    "### Structural variant calling\n",
    "\n",
    "The following command will call variants given the sample input BAM file and the provided pretrained Cue model (in ```data/models```) on a single CPU.\n",
    "This command will launch Cue in variant discovery mode. The input BAM file will first be indexed and then the genome will be scanned to generate images\n",
    "and make predictions. This process should take about 5-6 minutes in total on one CPU. This command can be executed on the GPU by providing\n",
    "the desired GPU id in the ```gpu_ids``` field of the ```model.yaml``` file. For example, to run on GPU 0, set this field as follows:\n",
    "```gpu_ids: [0]```. Multiple GPU ids can be provided to parallelize SV calling across multiple devices when running on a full-genome dataset.\n"
   ],
   "metadata": {
    "collapsed": false,
    "pycharm": {
     "name": "#%% md\n"
    }
   }
  },
  {
   "cell_type": "code",
   "execution_count": 9,
   "outputs": [
    {
     "name": "stdout",
     "output_type": "stream",
     "text": [
      "[INFO]  ===== Config =====\n",
      "\tYAML config file: ../data/demo/results/model.yaml\n",
      "\tExperiment directory: /Users/vpopic/research/cue/data/demo/results\n",
      "\tDevice: cpu\n",
      "\tMain LOG file: /Users/vpopic/research/cue/data/demo/results/logs/main.log\n",
      "\tmodel_path: ../data/models/cue.pt\n",
      "\tgpu_ids: []\n",
      "\treport_interval: 5\n",
      "\tpretrained_refinenn_path: None\n",
      "\timage_dim: 256\n",
      "\tclass_set: SV_CLASS_SET.BASIC5ZYG\n",
      "\tsignal_set: SV_SIGNAL_SET.SHORT\n",
      "\tnum_keypoints: 1\n",
      "\tmodel_architecture: HG\n",
      "\tbatch_size: 16\n",
      "\tsigma: 10\n",
      "\tstride: 4\n",
      "\theatmap_peak_threshold: 0.65\n",
      "\tconfig_file: ../data/demo/results/model.yaml\n",
      "\texperiment_dir: /Users/vpopic/research/cue/data/demo/results\n",
      "\tdevices: [device(type='cpu')]\n",
      "\tdevice: cpu\n",
      "\ttb_dir: /Users/vpopic/research/cue/data/demo/results/tb/\n",
      "\tlog_dir: /Users/vpopic/research/cue/data/demo/results/logs/\n",
      "\treport_dir: /Users/vpopic/research/cue/data/demo/results/reports/\n",
      "\tlog_file: /Users/vpopic/research/cue/data/demo/results/logs/main.log\n",
      "\tclasses: ['NEG', 'DEL-HOM', 'INV-HOM', 'DUP-HOM', 'DEL-HET', 'INV-HET', 'DUP-HET', 'IDUP-HOM', 'IDUP-HET']\n",
      "\tnum_classes: 9\n",
      "\tn_signals: 6\n",
      "[INFO] ==== Dataset ====\n",
      "bam: ../data/demo/inputs/chr21.small.bam\n",
      "\tfai: ../data/demo/inputs/GRCh38.fa.fai\n",
      "\tn_cpus: 1\n",
      "\tchr_names: ['chr21']\n",
      "\tbam_type: BAM_TYPE.SHORT\n",
      "\tsignal_set: SV_SIGNAL_SET.SHORT\n",
      "\tsignal_set_origin: SHORT\n",
      "\tbed: None\n",
      "\tblacklist_bed: None\n",
      "\tsignal_vmax: {'RD': 600, 'RD_LOW': 800, 'RD_CLIPPED': 600, 'SM': 200, 'SR_RP': 600, 'LR': 600, 'LLRR': 100, 'RL': 100, 'LLRR_VS_LR': 1}\n",
      "\tsignal_mapq: {'RD': 20, 'RD_LOW': 0, 'RD_CLIPPED': 20, 'SM': 20, 'SR_RP': 0, 'LR': 0, 'LLRR': 1, 'RL': 1, 'LLRR_VS_LR': 1}\n",
      "\tbin_size: 750\n",
      "\tinterval_size: [150000]\n",
      "\tstep_size: [50000]\n",
      "\tshift_size: [0, 70000, 140000]\n",
      "\theatmap_dim: 1000\n",
      "\timage_dim: 256\n",
      "\tclass_set: SV_CLASS_SET.BASIC5ZYG\n",
      "\tnum_keypoints: 1\n",
      "\tbbox_padding: 0\n",
      "\tconfig_file: ../data/demo/results/data.yaml\n",
      "\tdataset_dir: /Users/vpopic/research/cue/data/demo/results\n",
      "\tinfo_dir: /Users/vpopic/research/cue/data/demo/results/info/\n",
      "\timage_dir: /Users/vpopic/research/cue/data/demo/results/images/\n",
      "\tannotation_dir: /Users/vpopic/research/cue/data/demo/results/annotations/\n",
      "\tannotated_images_dir: /Users/vpopic/research/cue/data/demo/results/annotated_images/\n",
      "\tclasses: ['NEG', 'DEL-HOM', 'INV-HOM', 'DUP-HOM', 'DEL-HET', 'INV-HET', 'DUP-HET', 'IDUP-HOM', 'IDUP-HET']\n",
      "\tnum_classes: 9\n",
      "\tnum_signals: 6\n",
      "\tuid: 8765112326\n",
      "\tlog_file: /Users/vpopic/research/cue/data/demo/results/info/main.log\n",
      "[INFO] Running on 1 CPUs/GPUs\n",
      "[INFO] Chromosome lists processed by each process: [array(['chr21'], dtype='<U5')]\n",
      "Loaded model: ../data/models/cue.pt on cpu\n",
      "Generating AUX index ../data/demo/inputs/chr21.small.bam.chr21.750.SHORT.auxindex\n",
      "Processed 0 reads\n",
      "Processed 1000000 reads\n",
      "Read: 1318669 reads\n",
      "Filtered: 0 reads\n",
      "[INFO] Generating SV predictions for chr21\n",
      "[INFO] Scanned 1000000 loci on chr21\n",
      "[INFO] Scanned 2000000 loci on chr21\n",
      "[INFO] Scanned 3000000 loci on chr21\n",
      "[INFO] Scanned 4000000 loci on chr21\n",
      "[INFO] Scanned 5000000 loci on chr21\n",
      "[INFO] Scanned 6000000 loci on chr21\n",
      "[INFO] Scanned 7000000 loci on chr21\n",
      "[INFO] Scanned 8000000 loci on chr21\n",
      "[INFO] Scanned 9000000 loci on chr21\n",
      "[INFO] Scanned 10000000 loci on chr21\n",
      "[INFO] Scanned 11000000 loci on chr21\n",
      "[INFO] Scanned 12000000 loci on chr21\n",
      "[INFO] Scanned 13000000 loci on chr21\n",
      "[INFO] Scanned 14000000 loci on chr21\n",
      "[INFO] Scanned 15000000 loci on chr21\n",
      "[INFO] Scanned 16000000 loci on chr21\n",
      "[INFO] Scanned 17000000 loci on chr21\n",
      "[INFO] Scanned 18000000 loci on chr21\n",
      "[INFO] Scanned 19000000 loci on chr21\n",
      "[INFO] Scanned 20000000 loci on chr21\n",
      "[INFO] Scanned 21000000 loci on chr21\n",
      "[INFO] Scanned 22000000 loci on chr21\n",
      "[INFO] Scanned 23000000 loci on chr21\n",
      "[INFO] Scanned 24000000 loci on chr21\n",
      "[INFO] Scanned 25000000 loci on chr21\n",
      "[INFO] Scanned 26000000 loci on chr21\n",
      "[INFO] Scanned 27000000 loci on chr21\n",
      "[INFO] Scanned 28000000 loci on chr21\n",
      "[INFO] Scanned 29000000 loci on chr21\n",
      "[INFO] Scanned 30000000 loci on chr21\n",
      "[INFO] Scanned 31000000 loci on chr21\n",
      "[INFO] Scanned 32000000 loci on chr21\n",
      "[INFO] Scanned 33000000 loci on chr21\n",
      "[INFO] Scanned 34000000 loci on chr21\n",
      "[INFO] Scanned 35000000 loci on chr21\n",
      "[INFO] Scanned 36000000 loci on chr21\n",
      "[INFO] Scanned 37000000 loci on chr21\n",
      "[INFO] Scanned 38000000 loci on chr21\n",
      "[INFO] Scanned 39000000 loci on chr21\n",
      "[INFO] Scanned 40000000 loci on chr21\n",
      "[INFO] Scanned 41000000 loci on chr21\n",
      "[INFO] Scanned 42000000 loci on chr21\n",
      "[INFO] Scanned 43000000 loci on chr21\n",
      "[INFO] Scanned 44000000 loci on chr21\n",
      "[INFO] Scanned 45000000 loci on chr21\n",
      "[INFO] Scanned 46000000 loci on chr21\n"
     ]
    }
   ],
   "source": [
    "%%sh\n",
    "export PYTHONPATH=${PYTHONPATH}:..\n",
    "source ../env/bin/activate\n",
    "\n",
    "python ../engine/call.py --data_config ../data/demo/results/data.yaml --model_config ../data/demo/results/model.yaml"
   ],
   "metadata": {
    "collapsed": false,
    "pycharm": {
     "name": "#%%\n"
    }
   }
  },
  {
   "cell_type": "markdown",
   "source": [
    "The output of the program will be generated in the ```data/demo/results``` directory.\n",
    "In particular, the discovered SVs will be provided here: ```data/demo/results/reports/svs.vcf ``` (Cue outputs both a BED and a VCF file with results).\n",
    "\n",
    "For example, here are three SVs discovered by the model ranked by confidence score (given in ```QUAL``` column).\n",
    "\n",
    "```\n",
    "#CHROM  POS     ID      REF     ALT     QUAL    FILTER  INFO    FORMAT  SAMPLE\n",
    "chr21   10399416        DUP     N       <DUP>   86      PASS    END=10427813;SVTYPE=DUP;SVLEN=28398     GT      0/1\n",
    "chr21   14855666        INV     N       <INV>   82      PASS    END=14870587;SVTYPE=INV;SVLEN=14922     GT      0/1\n",
    "chr21   14874025        DEL     N       <DEL>   82      PASS    END=14891603;SVTYPE=DEL;SVLEN=17579     GT      1/1\n",
    "```\n",
    "\n",
    "Intermediate model predictions in image space are stored under the ```data/demo/results/reports/predictions/``` directory for ```chr21```, along with images depicting the keypoint predictions (these are reported for result visualization only at specified batch intervals)."
   ],
   "metadata": {
    "collapsed": false,
    "pycharm": {
     "name": "#%% md\n"
    }
   }
  },
  {
   "cell_type": "code",
   "execution_count": 11,
   "outputs": [
    {
     "name": "stdout",
     "output_type": "stream",
     "text": [
      "#CHROM\tPOS\tID\tREF\tALT\tQUAL\tFILTER\tINFO\tFORMAT\tSAMPLE\n",
      "chr21\t10399416\tDUP\tN\t<DUP>\t86\tPASS\tEND=10427813;SVTYPE=DUP;SVLEN=28398\tGT\t0/1\n",
      "chr21\t14855666\tINV\tN\t<INV>\t82\tPASS\tEND=14870587;SVTYPE=INV;SVLEN=14922\tGT\t0/1\n",
      "chr21\t14874025\tDEL\tN\t<DEL>\t82\tPASS\tEND=14891603;SVTYPE=DEL;SVLEN=17579\tGT\t1/1\n"
     ]
    }
   ],
   "source": [
    "%%sh\n",
    "cat ../data/demo/results/reports/svs.vcf | grep -v \"##\" | head -n 4"
   ],
   "metadata": {
    "collapsed": false,
    "pycharm": {
     "name": "#%%\n"
    }
   }
  },
  {
   "cell_type": "markdown",
   "source": [
    "### Structural variant callset evaluation (Optional)\n",
    "\n",
    "We can evaluate the calls against the ground truth SVs using Truvari.\n",
    "In order to execute Truvari, we need to post-process the produced VCF to the input format required by Truvari;\n",
    "in particular, we need to sort, compress, and index the SV VCF file. We recommend using ```bcftools``` and ```htslib```\n",
    "for this task as follows."
   ],
   "metadata": {
    "collapsed": false,
    "pycharm": {
     "name": "#%% md\n"
    }
   }
  },
  {
   "cell_type": "code",
   "execution_count": 12,
   "outputs": [
    {
     "name": "stderr",
     "output_type": "stream",
     "text": [
      "Writing to /tmp/bcftools-sort.dBiTD7\n",
      "Merging 1 temporary files\n",
      "Cleaning\n",
      "Done\n"
     ]
    }
   ],
   "source": [
    "%%sh\n",
    "# a. Sort the VCF by position\n",
    "bcftools sort ../data/demo/results/reports/svs.vcf > ../data/demo/results/reports/svs.sorted.vcf\n",
    "\n",
    "# b. Compress the sorted VCF\n",
    "bgzip -f ../data/demo/results/reports/svs.sorted.vcf\n",
    "\n",
    "# c. Index the compressed VCF\n",
    "bcftools index -t ../data/demo/results/reports/svs.sorted.vcf.gz"
   ],
   "metadata": {
    "collapsed": false,
    "pycharm": {
     "name": "#%%\n"
    }
   }
  },
  {
   "cell_type": "code",
   "execution_count": 17,
   "outputs": [
    {
     "name": "stdout",
     "output_type": "stream",
     "text": [
      "Collecting Truvari\n",
      "  Downloading Truvari-3.2.0-py3-none-any.whl (62 kB)\n",
      "     ━━━━━━━━━━━━━━━━━━━━━━━━━━━━━━━━━━━━━━━━ 62.5/62.5 KB 2.3 MB/s eta 0:00:00\n",
      "Requirement already satisfied: pytabix>=0.1 in /Users/vpopic/research/cue/env/lib/python3.7/site-packages (from Truvari) (0.1)\n",
      "Requirement already satisfied: pysam>=0.15.2 in /Users/vpopic/research/cue/env/lib/python3.7/site-packages (from Truvari) (0.16.0.1)\n",
      "Collecting numpy>=1.21.2\n",
      "  Downloading numpy-1.21.6-cp37-cp37m-macosx_10_9_x86_64.whl (16.9 MB)\n",
      "     ━━━━━━━━━━━━━━━━━━━━━━━━━━━━━━━━━━━━━━━━ 16.9/16.9 MB 17.5 MB/s eta 0:00:00\n",
      "Requirement already satisfied: bwapy>=0.1.4 in /Users/vpopic/research/cue/env/lib/python3.7/site-packages (from Truvari) (0.1.4)\n",
      "Collecting edlib>=1.3.8.post2\n",
      "  Downloading edlib-1.3.9-cp37-cp37m-macosx_10_9_x86_64.whl (64 kB)\n",
      "     ━━━━━━━━━━━━━━━━━━━━━━━━━━━━━━━━━━━━━━━━ 64.1/64.1 KB 2.1 MB/s eta 0:00:00\n",
      "Requirement already satisfied: progressbar2>=3.41.0 in /Users/vpopic/research/cue/env/lib/python3.7/site-packages (from Truvari) (4.0.0)\n",
      "Requirement already satisfied: intervaltree>=3.0.2 in /Users/vpopic/research/cue/env/lib/python3.7/site-packages (from Truvari) (3.1.0)\n",
      "Collecting joblib>=1.0.1\n",
      "  Downloading joblib-1.1.0-py2.py3-none-any.whl (306 kB)\n",
      "     ━━━━━━━━━━━━━━━━━━━━━━━━━━━━━━━━━━━━━━━ 307.0/307.0 KB 7.3 MB/s eta 0:00:00\n",
      "Collecting pandas>=1.3.3\n",
      "  Using cached pandas-1.3.5-cp37-cp37m-macosx_10_9_x86_64.whl (11.0 MB)\n",
      "Collecting python-Levenshtein==0.12.2\n",
      "  Downloading python-Levenshtein-0.12.2.tar.gz (50 kB)\n",
      "     ━━━━━━━━━━━━━━━━━━━━━━━━━━━━━━━━━━━━━━━━ 50.5/50.5 KB 1.4 MB/s eta 0:00:00\n",
      "  Preparing metadata (setup.py): started\n",
      "  Preparing metadata (setup.py): finished with status 'done'\n",
      "Requirement already satisfied: setuptools in /Users/vpopic/research/cue/env/lib/python3.7/site-packages (from python-Levenshtein==0.12.2->Truvari) (58.0.0)\n",
      "Requirement already satisfied: wheel>=0.34.2 in /Users/vpopic/research/cue/env/lib/python3.7/site-packages (from bwapy>=0.1.4->Truvari) (0.37.1)\n",
      "Requirement already satisfied: cffi in /Users/vpopic/research/cue/env/lib/python3.7/site-packages (from bwapy>=0.1.4->Truvari) (1.15.0)\n",
      "Requirement already satisfied: sortedcontainers<3.0,>=2.0 in /Users/vpopic/research/cue/env/lib/python3.7/site-packages (from intervaltree>=3.0.2->Truvari) (2.4.0)\n",
      "Requirement already satisfied: python-dateutil>=2.7.3 in /Users/vpopic/research/cue/env/lib/python3.7/site-packages (from pandas>=1.3.3->Truvari) (2.8.1)\n",
      "Requirement already satisfied: pytz>=2017.3 in /Users/vpopic/research/cue/env/lib/python3.7/site-packages (from pandas>=1.3.3->Truvari) (2022.1)\n",
      "Requirement already satisfied: python-utils>=3.0.0 in /Users/vpopic/research/cue/env/lib/python3.7/site-packages (from progressbar2>=3.41.0->Truvari) (3.2.3)\n",
      "Requirement already satisfied: six>=1.5 in /Users/vpopic/research/cue/env/lib/python3.7/site-packages (from python-dateutil>=2.7.3->pandas>=1.3.3->Truvari) (1.16.0)\n",
      "Requirement already satisfied: pycparser in /Users/vpopic/research/cue/env/lib/python3.7/site-packages (from cffi->bwapy>=0.1.4->Truvari) (2.21)\n",
      "Building wheels for collected packages: python-Levenshtein\n",
      "  Building wheel for python-Levenshtein (setup.py): started\n",
      "  Building wheel for python-Levenshtein (setup.py): finished with status 'done'\n",
      "  Created wheel for python-Levenshtein: filename=python_Levenshtein-0.12.2-cp37-cp37m-macosx_11_0_x86_64.whl size=81192 sha256=99cd69e2c83ecb32221ec09c1b279dcd110dbc39b003b69b53e576b2a3a9866a\n",
      "  Stored in directory: /Users/vpopic/Library/Caches/pip/wheels/05/5f/ca/7c4367734892581bb5ff896f15027a932c551080b2abd3e00d\n",
      "Successfully built python-Levenshtein\n",
      "Installing collected packages: edlib, python-Levenshtein, numpy, joblib, pandas, Truvari\n",
      "  Attempting uninstall: python-Levenshtein\n",
      "    Found existing installation: python-Levenshtein 0.12.1\n",
      "    Uninstalling python-Levenshtein-0.12.1:\n",
      "      Successfully uninstalled python-Levenshtein-0.12.1\n",
      "  Attempting uninstall: numpy\n",
      "    Found existing installation: numpy 1.18.5\n",
      "    Uninstalling numpy-1.18.5:\n",
      "      Successfully uninstalled numpy-1.18.5\n",
      "  Attempting uninstall: joblib\n",
      "    Found existing installation: joblib 0.16.0\n",
      "    Uninstalling joblib-0.16.0:\n",
      "      Successfully uninstalled joblib-0.16.0\n",
      "  Attempting uninstall: pandas\n",
      "    Found existing installation: pandas 1.0.5\n",
      "    Uninstalling pandas-1.0.5:\n",
      "      Successfully uninstalled pandas-1.0.5\n",
      "Successfully installed Truvari-3.2.0 edlib-1.3.9 joblib-1.1.0 numpy-1.21.6 pandas-1.3.5 python-Levenshtein-0.12.2\n"
     ]
    },
    {
     "name": "stderr",
     "output_type": "stream",
     "text": [
      "WARNING: You are using pip version 22.0.4; however, version 22.1.1 is available.\n",
      "You should consider upgrading via the '/Users/vpopic/research/cue/env/bin/python -m pip install --upgrade pip' command.\n",
      "2022-05-24 15:49:37,774 [INFO] Running /Users/vpopic/research/cue/env/bin/truvari bench -b ../data/demo/ground_truth/svs.chr21.small.sorted.vcf.gz -c ../data/demo/results/reports/svs.sorted.vcf.gz -o ../data/demo/results/reports/truvari --pctsize=0.5 --pctov=0.5 --passonly --sizemax 5000000 --pctsim 0 --gtcomp\n",
      "2022-05-24 15:49:37,774 [INFO] Params:\n",
      "{\n",
      "    \"base\": \"../data/demo/ground_truth/svs.chr21.small.sorted.vcf.gz\",\n",
      "    \"comp\": \"../data/demo/results/reports/svs.sorted.vcf.gz\",\n",
      "    \"output\": \"../data/demo/results/reports/truvari\",\n",
      "    \"reference\": null,\n",
      "    \"giabreport\": false,\n",
      "    \"debug\": false,\n",
      "    \"prog\": false,\n",
      "    \"refdist\": 500,\n",
      "    \"pctsim\": 0.0,\n",
      "    \"minhaplen\": 50,\n",
      "    \"pctsize\": 0.5,\n",
      "    \"pctovl\": 0.5,\n",
      "    \"typeignore\": false,\n",
      "    \"use_lev\": false,\n",
      "    \"chunksize\": 1000,\n",
      "    \"gtcomp\": true,\n",
      "    \"bSample\": null,\n",
      "    \"cSample\": null,\n",
      "    \"sizemin\": 50,\n",
      "    \"sizefilt\": 30,\n",
      "    \"sizemax\": 5000000,\n",
      "    \"passonly\": true,\n",
      "    \"no_ref\": false,\n",
      "    \"includebed\": null,\n",
      "    \"multimatch\": false\n",
      "}\n",
      "2022-05-24 15:49:37,775 [INFO] Truvari version: 3.2.0\n",
      "2022-05-24 15:49:37,788 [INFO] Zipped 33 variants. Counter({'base': 17, 'comp': 16})\n",
      "2022-05-24 15:49:37,788 [INFO] 15 chunks of 33 variants. Counter({'base': 17, 'comp': 16})\n",
      "2022-05-24 15:49:37,788 [INFO] Stats: {\n",
      "    \"TP-base\": 16,\n",
      "    \"TP-call\": 16,\n",
      "    \"FP\": 0,\n",
      "    \"FN\": 1,\n",
      "    \"precision\": 1.0,\n",
      "    \"recall\": 0.9411764705882353,\n",
      "    \"f1\": 0.9696969696969697,\n",
      "    \"base cnt\": 17,\n",
      "    \"call cnt\": 16,\n",
      "    \"TP-call_TP-gt\": 16,\n",
      "    \"TP-call_FP-gt\": 0,\n",
      "    \"TP-base_TP-gt\": 16,\n",
      "    \"TP-base_FP-gt\": 0,\n",
      "    \"gt_concordance\": 1.0,\n",
      "    \"gt_matrix\": {\n",
      "        \"(0, 1)\": {\n",
      "            \"(0, 1)\": 10\n",
      "        },\n",
      "        \"(1, 1)\": {\n",
      "            \"(1, 1)\": 6\n",
      "        }\n",
      "    }\n",
      "}\n",
      "2022-05-24 15:49:37,789 [INFO] Finished bench\n"
     ]
    }
   ],
   "source": [
    "%%sh\n",
    "source ../env/bin/activate\n",
    "\n",
    "# install Truvari\n",
    "python -m pip install Truvari\n",
    "\n",
    "# We can now execute Truvari as follows:\n",
    "truvari bench -b ../data/demo/ground_truth/svs.chr21.small.sorted.vcf.gz -c ../data/demo/results/reports/svs.sorted.vcf.gz -o ../data/demo/results/reports/truvari --pctsize=0.5 --pctov=0.5 --passonly --sizemax 5000000 --pctsim 0 --gtcomp"
   ],
   "metadata": {
    "collapsed": false,
    "pycharm": {
     "name": "#%%\n"
    }
   }
  },
  {
   "cell_type": "markdown",
   "source": [
    "Truvari will report the precision, recall, and F1 score for this small benchmark. The above command will require a genotype match to consider an SV call a true positive (TP)."
   ],
   "metadata": {
    "collapsed": false,
    "pycharm": {
     "name": "#%% md\n"
    }
   }
  },
  {
   "cell_type": "code",
   "execution_count": 19,
   "outputs": [
    {
     "name": "stdout",
     "output_type": "stream",
     "text": [
      "{\n",
      "    \"TP-base\": 16,\n",
      "    \"TP-call\": 16,\n",
      "    \"FP\": 0,\n",
      "    \"FN\": 1,\n",
      "    \"precision\": 1.0,\n",
      "    \"recall\": 0.9411764705882353,\n",
      "    \"f1\": 0.9696969696969697,\n",
      "    \"base cnt\": 17,\n",
      "    \"call cnt\": 16,\n",
      "    \"TP-call_TP-gt\": 16,\n",
      "    \"TP-call_FP-gt\": 0,\n",
      "    \"TP-base_TP-gt\": 16,\n",
      "    \"TP-base_FP-gt\": 0,\n",
      "    \"gt_concordance\": 1.0,\n",
      "    \"gt_matrix\": {\n",
      "        \"(0, 1)\": {\n",
      "            \"(0, 1)\": 10\n",
      "        },\n",
      "        \"(1, 1)\": {\n",
      "            \"(1, 1)\": 6\n",
      "        }\n",
      "    }\n",
      "}"
     ]
    }
   ],
   "source": [
    "%%sh\n",
    "# To view the full Truvari summary:\n",
    "cat ../data/demo/results/reports/truvari/summary.txt"
   ],
   "metadata": {
    "collapsed": false,
    "pycharm": {
     "name": "#%%\n"
    }
   }
  },
  {
   "cell_type": "markdown",
   "source": [
    "We can see that Cue discovered 16 out of the 17 events simulated in this region with an exact genotype match and no false positives.\n",
    "Additional information produced by Truvari can be found here: ```data/demo/results/reports/truvari```."
   ],
   "metadata": {
    "collapsed": false,
    "pycharm": {
     "name": "#%% md\n"
    }
   }
  },
  {
   "cell_type": "markdown",
   "source": [
    "### Visualizing the SVs results\n",
    "\n",
    "To visually evaluate the results, we can generate annotated Cue images and separate image channels centered around each discovered SV\n",
    "using the provided ```engine/view.py``` script. These channels can be used to evaluate various alignment signals contributing to each SV call.\n"
   ],
   "metadata": {
    "collapsed": false,
    "pycharm": {
     "name": "#%% md\n"
    }
   }
  },
  {
   "cell_type": "code",
   "execution_count": 26,
   "outputs": [
    {
     "name": "stdout",
     "output_type": "stream",
     "text": [
      "[INFO] ==== Dataset ====\n",
      "bam: ../data/demo/inputs/chr21.small.bam\n",
      "\tfai: ../data/demo/inputs/GRCh38.fa.fai\n",
      "\tbed: ../data/demo/results/reports/svs.vcf\n",
      "\tn_cpus: 1\n",
      "\tchr_names: ['chr21']\n",
      "\tblacklist_bed: None\n",
      "\tbam_type: BAM_TYPE.SHORT\n",
      "\tsignal_set: SV_SIGNAL_SET.SHORT\n",
      "\tsignal_set_origin: SHORT\n",
      "\tsignal_vmax: {'RD': 600, 'RD_LOW': 800, 'RD_CLIPPED': 600, 'SM': 200, 'SR_RP': 600, 'LR': 600, 'LLRR': 100, 'RL': 100, 'LLRR_VS_LR': 1}\n",
      "\tsignal_mapq: {'RD': 20, 'RD_LOW': 0, 'RD_CLIPPED': 20, 'SM': 20, 'SR_RP': 0, 'LR': 0, 'LLRR': 1, 'RL': 1, 'LLRR_VS_LR': 1}\n",
      "\tbin_size: 750\n",
      "\tinterval_size: [150000]\n",
      "\tstep_size: [50000]\n",
      "\tshift_size: [0, 70000, 140000]\n",
      "\theatmap_dim: 1000\n",
      "\timage_dim: 256\n",
      "\tclass_set: SV_CLASS_SET.BASIC5ZYG\n",
      "\tnum_keypoints: 1\n",
      "\tbbox_padding: 0\n",
      "\tconfig_file: ../data/demo/results/view.yaml\n",
      "\tdataset_dir: /Users/vpopic/research/cue/data/demo/results\n",
      "\tinfo_dir: /Users/vpopic/research/cue/data/demo/results/info/\n",
      "\timage_dir: /Users/vpopic/research/cue/data/demo/results/images/\n",
      "\tannotation_dir: /Users/vpopic/research/cue/data/demo/results/annotations/\n",
      "\tannotated_images_dir: /Users/vpopic/research/cue/data/demo/results/annotated_images/\n",
      "\tclasses: ['NEG', 'DEL-HOM', 'INV-HOM', 'DUP-HOM', 'DEL-HET', 'INV-HET', 'DUP-HET', 'IDUP-HOM', 'IDUP-HET']\n",
      "\tnum_classes: 9\n",
      "\tnum_signals: 6\n",
      "\tuid: 0000000000\n",
      "\tlog_file: /Users/vpopic/research/cue/data/demo/results/info/main.log\n",
      "Loaded AUX index:  ../data/demo/inputs/chr21.small.bam.chr21.750.SHORT.auxindex\n",
      "[INFO] Generating SV images for chr21\n",
      "[INFO] chr21\t10399415\t10399416\tchr21\t10427813\t10427814\tDUP\t86.0\t0/1 DUP-HET chr21_10349415-10477813\n",
      "[INFO] chr21\t14855665\t14855666\tchr21\t14870587\t14870588\tINV\t82.0\t0/1 INV-HET chr21_14805665-14920587\n",
      "[INFO] chr21\t14874024\t14874025\tchr21\t14891603\t14891604\tDEL\t82.0\t1/1 DEL-HOM chr21_14824024-14941603\n",
      "[INFO] chr21\t14234962\t14234963\tchr21\t14368829\t14368830\tDEL\t82.0\t0/1 DEL-HET chr21_14184962-14418829\n",
      "[INFO] chr21\t14606446\t14606447\tchr21\t14665626\t14665627\tDEL\t82.0\t1/1 DEL-HOM chr21_14556446-14715626\n",
      "[INFO] chr21\t13073634\t13073635\tchr21\t13109063\t13109064\tDEL\t82.0\t1/1 DEL-HOM chr21_13023634-13159063\n",
      "[INFO] chr21\t13294142\t13294143\tchr21\t13440001\t13440002\tDUP\t81.0\t1/1 DUP-HOM chr21_13244142-13490001\n",
      "[INFO] chr21\t14916798\t14916799\tchr21\t14961603\t14961604\tINV\t81.0\t0/1 INV-HET chr21_14866798-15011603\n",
      "[INFO] chr21\t14375001\t14375002\tchr21\t14560118\t14560119\tDUP\t81.0\t1/1 DUP-HOM chr21_14325001-14610118\n",
      "[INFO] chr21\t14078126\t14078127\tchr21\t14175079\t14175080\tDUP\t81.0\t0/1 DUP-HET chr21_14028126-14225079\n",
      "[INFO] chr21\t13123829\t13123830\tchr21\t13202032\t13202033\tDEL\t81.0\t0/1 DEL-HET chr21_13073829-13252032\n",
      "[INFO] chr21\t14019142\t14019143\tchr21\t14077149\t14077150\tINV\t80.0\t1/1 INV-HOM chr21_13969142-14127149\n",
      "[INFO] chr21\t10006837\t10006838\tchr21\t10111095\t10111096\tDUP\t80.0\t0/1 DUP-HET chr21_9956837-10161095\n",
      "[INFO] chr21\t12989063\t12989064\tchr21\t13027149\t13027150\tDEL\t80.0\t0/1 DEL-HET chr21_12939063-13077149\n",
      "[INFO] chr21\t10566993\t10566994\tchr21\t10704376\t10704377\tDEL\t78.0\t0/1 DEL-HET chr21_10516993-10754376\n",
      "[INFO] chr21\t13519142\t13519143\tchr21\t13703087\t13703088\tDEL\t78.0\t0/1 DEL-HET chr21_13469142-13753087\n"
     ]
    }
   ],
   "source": [
    "%%sh\n",
    "source ../env/bin/activate\n",
    "\n",
    "cp ../data/demo/config/view.yaml ../data/demo/results/.\n",
    "python ../engine/view.py --config ../data/demo/results/view.yaml"
   ],
   "metadata": {
    "collapsed": false,
    "pycharm": {
     "name": "#%%\n"
    }
   }
  },
  {
   "cell_type": "markdown",
   "source": [
    "The annotations and channels for the above three events can be generated as follows (note that other events may appear in the same image if they are nearby)."
   ],
   "metadata": {
    "collapsed": false,
    "pycharm": {
     "name": "#%% md\n"
    }
   }
  },
  {
   "cell_type": "code",
   "execution_count": 28,
   "outputs": [
    {
     "data": {
      "text/plain": "<Figure size 576x360 with 15 Axes>",
      "image/png": "[encoded data removed]"
     },
     "metadata": {},
     "output_type": "display_data"
    }
   ],
   "source": [
    "import numpy as np\n",
    "import matplotlib.pyplot as plt\n",
    "from PIL import Image\n",
    "\n",
    "def plot_images(imgs, row_labels, col_labels):\n",
    "    n_rows, n_cols = len(imgs), len(imgs[0])\n",
    "    fig = plt.figure(figsize=(8,5))\n",
    "    fig.tight_layout()\n",
    "    for i in range(n_rows):\n",
    "        for j in range(n_cols):\n",
    "            ax = plt.subplot(n_rows, n_cols, i*n_cols + j + 1)\n",
    "            if not i:\n",
    "                ax.title.set_text(col_labels[j])\n",
    "            if not j:\n",
    "                ax.set_ylabel(row_labels[i])\n",
    "            plt.xticks([])\n",
    "            plt.yticks([])\n",
    "            img = imgs[i][j]\n",
    "            plt.imshow(img, cmap=\"Spectral_r\")\n",
    "        \n",
    "# set up the generated image paths\n",
    "ann_img_prefix = \"../data/demo/results/annotated_images/0000000000\"\n",
    "ch_img_prefix = \"../data/demo/results/images/0000000000\"\n",
    "img_fnames = {\"DUP\": \"chr21_10349415-10477813_&_chr21_10349415-10477813.png\",\n",
    "              \"INV\": \"chr21_14805665-14920587_&_chr21_14805665-14920587.png\",\n",
    "              \"DEL\": \"chr21_14824024-14941603_&_chr21_14824024-14941603.png\"}\n",
    "\n",
    "# load the annotated images for each event\n",
    "images = [[np.array(Image.open(\"%s_0_%s\" % (ann_img_prefix, img_fnames[\"DUP\"])), copy=False)],\n",
    "          [np.array(Image.open(\"%s_1_%s\" % (ann_img_prefix, img_fnames[\"INV\"])), copy=False)],\n",
    "          [np.array(Image.open(\"%s_2_%s\" % (ann_img_prefix, img_fnames[\"DEL\"])), copy=False)]]\n",
    "\n",
    "# load the image channels for each event\n",
    "for channel in range(1, 5):\n",
    "    for i,sv in enumerate(img_fnames.keys()):\n",
    "        images[i].append(np.array(Image.open(\"%s_%s.ch%d.png\" % (ch_img_prefix, img_fnames[sv], channel)), copy=False))\n",
    "\n",
    "image_labels = [\"Annotation\", \"READ-DEPTH\", \"SPLIT-READ/\\nREAD PAIRS\", \"LL+RR PAIRS\", \"RL PAIRS\"]\n",
    "plot_images(images, list(img_fnames.keys()), image_labels)\n"
   ],
   "metadata": {
    "collapsed": false,
    "pycharm": {
     "name": "#%%\n"
    }
   }
  },
  {
   "cell_type": "code",
   "execution_count": null,
   "outputs": [],
   "source": [],
   "metadata": {
    "collapsed": false,
    "pycharm": {
     "name": "#%%\n"
    }
   }
  }
 ],
 "metadata": {
  "kernelspec": {
   "display_name": "Python 3 (ipykernel)",
   "language": "python",
   "name": "python3"
  },
  "language_info": {
   "codemirror_mode": {
    "name": "ipython",
    "version": 3
   },
   "file_extension": ".py",
   "mimetype": "text/x-python",
   "name": "python",
   "nbconvert_exporter": "python",
   "pygments_lexer": "ipython3",
   "version": "3.7.3"
  }
 },
 "nbformat": 4,
 "nbformat_minor": 1
}